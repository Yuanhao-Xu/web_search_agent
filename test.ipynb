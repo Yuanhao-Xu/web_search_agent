{
 "cells": [
  {
   "cell_type": "code",
   "execution_count": null,
   "id": "0d3a3dec",
   "metadata": {},
   "outputs": [],
   "source": [
    "from openai import OpenAI\n",
    "from tavily import TavilyClient\n",
    "import requests\n",
    "import asyncio\n"
   ]
  }
 ],
 "metadata": {
  "kernelspec": {
   "display_name": "aiagent",
   "language": "python",
   "name": "python3"
  },
  "language_info": {
   "name": "python",
   "version": "3.11.13"
  }
 },
 "nbformat": 4,
 "nbformat_minor": 5
}
